{
 "cells": [
  {
   "cell_type": "markdown",
   "metadata": {},
   "source": [
    "# Part1"
   ]
  },
  {
   "cell_type": "markdown",
   "metadata": {},
   "source": [
    "## (a) \n",
    "Compute the eigenvalues and eigenvectors of A."
   ]
  },
  {
   "cell_type": "code",
   "execution_count": 1,
   "metadata": {},
   "outputs": [
    {
     "data": {
      "text/plain": [
       "(array([ -1., -10.]),\n",
       " array([[1., 0.],\n",
       "        [0., 1.]]))"
      ]
     },
     "execution_count": 1,
     "metadata": {},
     "output_type": "execute_result"
    }
   ],
   "source": [
    "import numpy as np\n",
    "\n",
    "# Define the system matrix for h1(t) and h2(t)\n",
    "A = np.array([[-1, 0],\n",
    "              [0, -10]])\n",
    "\n",
    "# Compute eigenvalues and eigenvectors of the matrix A\n",
    "eigenvalues, eigenvectors = np.linalg.eig(A)\n",
    "\n",
    "eigenvalues, eigenvectors"
   ]
  },
  {
   "cell_type": "markdown",
   "metadata": {},
   "source": [
    "## (b)\n",
    "Compute the leading spatial POD mode."
   ]
  },
  {
   "cell_type": "code",
   "execution_count": 2,
   "metadata": {},
   "outputs": [
    {
     "data": {
      "text/plain": [
       "(array([1.47942103e-10, 4.80789523e+01]),\n",
       " array([[-1.00000000e+00, -1.74345659e-06],\n",
       "        [ 1.74345659e-06, -1.00000000e+00]]),\n",
       " array([-1.74345659e-06, -1.00000000e+00]))"
      ]
     },
     "execution_count": 2,
     "metadata": {},
     "output_type": "execute_result"
    }
   ],
   "source": [
    "# Constants and parameters for simulation\n",
    "dt = 1e-3  # Time step\n",
    "total_time = 1  # Total time of simulation\n",
    "num_steps = int(total_time / dt)  # Number of time steps\n",
    "num_trajectories = 1000  # Number of trajectories\n",
    "\n",
    "# Initial conditions\n",
    "h_initial = np.zeros((2, 1))\n",
    "\n",
    "# Discrete-time system matrix\n",
    "A_discrete = np.eye(2) + A * dt\n",
    "B_discrete = np.array([[1e-3], [1e3]]) * dt\n",
    "\n",
    "# To store all trajectories\n",
    "all_trajectories = np.zeros((2, num_steps, num_trajectories))\n",
    "\n",
    "# Simulate the system\n",
    "np.random.seed(42)  # for reproducibility\n",
    "for j in range(num_trajectories):\n",
    "    h = h_initial.copy()\n",
    "    for i in range(num_steps):\n",
    "        x_t = np.random.normal(0, 1)  # Sample x(t)\n",
    "        h = A_discrete @ h + B_discrete * x_t  # Euler integration step\n",
    "        all_trajectories[:, i, j] = h.squeeze()\n",
    "\n",
    "# Perform POD via time-averaging across all trajectories\n",
    "data_matrix = all_trajectories.reshape(2, -1)  # Flatten trajectories into a matrix of 2 x (num_steps*num_trajectories)\n",
    "covariance_matrix = np.cov(data_matrix)  # Compute the covariance matrix\n",
    "pod_eigenvalues, pod_eigenvectors = np.linalg.eig(covariance_matrix)  # Eigen-decomposition\n",
    "\n",
    "# Sort eigenvectors based on eigenvalues in descending order\n",
    "sorted_indices = np.argsort(-pod_eigenvalues)\n",
    "leading_pod_mode = pod_eigenvectors[:, sorted_indices[0]]\n",
    "\n",
    "pod_eigenvalues, pod_eigenvectors, leading_pod_mode\n"
   ]
  },
  {
   "cell_type": "markdown",
   "metadata": {},
   "source": [
    "## (h)\n",
    "Compute the $W_c(t)$ and its eigenvalues."
   ]
  },
  {
   "cell_type": "code",
   "execution_count": 3,
   "metadata": {},
   "outputs": [
    {
     "data": {
      "text/plain": [
       "(array([[4.32764835e-07, 9.14084809e-02],\n",
       "        [9.14084809e-02, 5.05016666e+04]]),\n",
       " array([2.67318683e-07+0.j, 5.05016666e+04+0.j]))"
      ]
     },
     "execution_count": 3,
     "metadata": {},
     "output_type": "execute_result"
    }
   ],
   "source": [
    "import numpy as np\n",
    "from scipy.linalg import expm, eigvals\n",
    "\n",
    "# Define the system matrices\n",
    "A = np.array([[-1, 0],\n",
    "              [0, -10]])\n",
    "B = np.array([[1e-3],\n",
    "              [1e3]])\n",
    "\n",
    "# Time at which to compute the Gramian\n",
    "t = 1\n",
    "\n",
    "# Compute the controllability Gramian\n",
    "# Wc(t) = integral from 0 to t of expm(A*s) * B * B.T * expm(A.T*s) ds\n",
    "# For numerical computation, we use the matrix exponential at discrete steps\n",
    "\n",
    "# Discretization parameters\n",
    "num_steps = 1000\n",
    "delta_t = t / num_steps\n",
    "Wc = np.zeros((2, 2))\n",
    "\n",
    "for step in range(num_steps):\n",
    "    tau = step * delta_t\n",
    "    Wc += expm(A * tau) @ B @ B.T @ expm(A.T * tau) * delta_t\n",
    "\n",
    "# Compute the eigenvalues of the controllability Gramian\n",
    "eigenvalues = eigvals(Wc)\n",
    "\n",
    "Wc, eigenvalues"
   ]
  },
  {
   "cell_type": "markdown",
   "metadata": {},
   "source": [
    "## (i)\n",
    "Compute the $\\tilde{A}$ and $\\tilde{B}$, then compute the $\\tilde{W}_c(1)$."
   ]
  },
  {
   "cell_type": "code",
   "execution_count": 4,
   "metadata": {},
   "outputs": [
    {
     "data": {
      "text/plain": [
       "(array([[0.43276483, 0.09140848],\n",
       "        [0.09140848, 0.05050167]]),\n",
       " array([0.45349829+0.j, 0.02976822+0.j]))"
      ]
     },
     "execution_count": 4,
     "metadata": {},
     "output_type": "execute_result"
    }
   ],
   "source": [
    "# Define the transformation matrix T\n",
    "T = np.array([[1e3, 0],\n",
    "              [0, 1e-3]])\n",
    "\n",
    "# Compute the new A and B matrices for the transformed system\n",
    "A_tilde = T @ A @ np.linalg.inv(T)\n",
    "B_tilde = T @ B\n",
    "\n",
    "# Compute the controllability Gramian for the transformed system\n",
    "Wc_tilde = np.zeros((2, 2))\n",
    "\n",
    "for step in range(num_steps):\n",
    "    tau = step * delta_t\n",
    "    Wc_tilde += expm(A_tilde * tau) @ B_tilde @ B_tilde.T @ expm(A_tilde.T * tau) * delta_t\n",
    "\n",
    "# Compute the eigenvalues of the controllability Gramian\n",
    "eigenvalues_tilde = eigvals(Wc_tilde)\n",
    "\n",
    "Wc_tilde, eigenvalues_tilde"
   ]
  }
 ],
 "metadata": {
  "kernelspec": {
   "display_name": "base",
   "language": "python",
   "name": "python3"
  },
  "language_info": {
   "codemirror_mode": {
    "name": "ipython",
    "version": 3
   },
   "file_extension": ".py",
   "mimetype": "text/x-python",
   "name": "python",
   "nbconvert_exporter": "python",
   "pygments_lexer": "ipython3",
   "version": "3.11.8"
  }
 },
 "nbformat": 4,
 "nbformat_minor": 2
}
